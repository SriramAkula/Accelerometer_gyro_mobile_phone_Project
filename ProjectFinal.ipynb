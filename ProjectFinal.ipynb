{
 "cells": [
  {
   "cell_type": "code",
   "execution_count": 187,
   "metadata": {},
   "outputs": [],
   "source": [
    "# NAME :- AKULA HEMA VENKATA SRIRAM\n",
    "# ROLL NO :- 04\n",
    "# REGISTRATION NO :- 12210461\n",
    "# SECTION :- K22BW\n",
    "# COURSE CODE :- INT-354\n",
    "\n",
    "# --------------------------------------------------------------------------------------------------------------------------------------------------------\n",
    "# PROJECT TITLE :- Analyzing Machine Learning Models for Human Activity Recognition: A Comparative Study\n",
    "# --------------------------------------------------------------------------------------------------------------------------------------------------------"
   ]
  },
  {
   "cell_type": "markdown",
   "metadata": {},
   "source": [
    "Reading The Dataset"
   ]
  },
  {
   "cell_type": "code",
   "execution_count": 188,
   "metadata": {},
   "outputs": [
    {
     "data": {
      "text/html": [
       "<div>\n",
       "<style scoped>\n",
       "    .dataframe tbody tr th:only-of-type {\n",
       "        vertical-align: middle;\n",
       "    }\n",
       "\n",
       "    .dataframe tbody tr th {\n",
       "        vertical-align: top;\n",
       "    }\n",
       "\n",
       "    .dataframe thead th {\n",
       "        text-align: right;\n",
       "    }\n",
       "</style>\n",
       "<table border=\"1\" class=\"dataframe\">\n",
       "  <thead>\n",
       "    <tr style=\"text-align: right;\">\n",
       "      <th></th>\n",
       "      <th>accX</th>\n",
       "      <th>accY</th>\n",
       "      <th>accZ</th>\n",
       "      <th>gyroX</th>\n",
       "      <th>gyroY</th>\n",
       "      <th>gyroZ</th>\n",
       "      <th>timestamp</th>\n",
       "      <th>Activity</th>\n",
       "    </tr>\n",
       "  </thead>\n",
       "  <tbody>\n",
       "    <tr>\n",
       "      <th>0</th>\n",
       "      <td>-0.496517</td>\n",
       "      <td>3.785628</td>\n",
       "      <td>8.954828</td>\n",
       "      <td>-0.142849</td>\n",
       "      <td>-0.126159</td>\n",
       "      <td>-0.022539</td>\n",
       "      <td>34:22.9</td>\n",
       "      <td>1</td>\n",
       "    </tr>\n",
       "    <tr>\n",
       "      <th>1</th>\n",
       "      <td>-0.462388</td>\n",
       "      <td>3.869603</td>\n",
       "      <td>9.281898</td>\n",
       "      <td>0.084349</td>\n",
       "      <td>0.096695</td>\n",
       "      <td>0.092130</td>\n",
       "      <td>34:23.0</td>\n",
       "      <td>1</td>\n",
       "    </tr>\n",
       "    <tr>\n",
       "      <th>2</th>\n",
       "      <td>-0.296084</td>\n",
       "      <td>3.820505</td>\n",
       "      <td>8.930728</td>\n",
       "      <td>0.061763</td>\n",
       "      <td>0.051543</td>\n",
       "      <td>0.071287</td>\n",
       "      <td>34:23.1</td>\n",
       "      <td>1</td>\n",
       "    </tr>\n",
       "    <tr>\n",
       "      <th>3</th>\n",
       "      <td>-0.469723</td>\n",
       "      <td>3.890110</td>\n",
       "      <td>8.744067</td>\n",
       "      <td>0.007641</td>\n",
       "      <td>0.028679</td>\n",
       "      <td>0.109433</td>\n",
       "      <td>34:23.2</td>\n",
       "      <td>1</td>\n",
       "    </tr>\n",
       "    <tr>\n",
       "      <th>4</th>\n",
       "      <td>-0.472418</td>\n",
       "      <td>4.109105</td>\n",
       "      <td>8.941207</td>\n",
       "      <td>-0.123640</td>\n",
       "      <td>0.099057</td>\n",
       "      <td>0.051943</td>\n",
       "      <td>34:23.3</td>\n",
       "      <td>1</td>\n",
       "    </tr>\n",
       "  </tbody>\n",
       "</table>\n",
       "</div>"
      ],
      "text/plain": [
       "       accX      accY      accZ     gyroX     gyroY     gyroZ timestamp  \\\n",
       "0 -0.496517  3.785628  8.954828 -0.142849 -0.126159 -0.022539   34:22.9   \n",
       "1 -0.462388  3.869603  9.281898  0.084349  0.096695  0.092130   34:23.0   \n",
       "2 -0.296084  3.820505  8.930728  0.061763  0.051543  0.071287   34:23.1   \n",
       "3 -0.469723  3.890110  8.744067  0.007641  0.028679  0.109433   34:23.2   \n",
       "4 -0.472418  4.109105  8.941207 -0.123640  0.099057  0.051943   34:23.3   \n",
       "\n",
       "   Activity  \n",
       "0         1  \n",
       "1         1  \n",
       "2         1  \n",
       "3         1  \n",
       "4         1  "
      ]
     },
     "execution_count": 188,
     "metadata": {},
     "output_type": "execute_result"
    }
   ],
   "source": [
    "import pandas as pd\n",
    "data=pd.read_csv('accelerometer_gyro_mobile_phone_dataset.csv')\n",
    "data.head()"
   ]
  },
  {
   "cell_type": "markdown",
   "metadata": {},
   "source": [
    "Data Exploration and Preprocessing"
   ]
  },
  {
   "cell_type": "code",
   "execution_count": 189,
   "metadata": {},
   "outputs": [
    {
     "name": "stdout",
     "output_type": "stream",
     "text": [
      "First few rows of the dataset:\n",
      "       accX      accY      accZ     gyroX     gyroY     gyroZ timestamp  \\\n",
      "0 -0.496517  3.785628  8.954828 -0.142849 -0.126159 -0.022539   34:22.9   \n",
      "1 -0.462388  3.869603  9.281898  0.084349  0.096695  0.092130   34:23.0   \n",
      "2 -0.296084  3.820505  8.930728  0.061763  0.051543  0.071287   34:23.1   \n",
      "3 -0.469723  3.890110  8.744067  0.007641  0.028679  0.109433   34:23.2   \n",
      "4 -0.472418  4.109105  8.941207 -0.123640  0.099057  0.051943   34:23.3   \n",
      "\n",
      "   Activity  \n",
      "0         1  \n",
      "1         1  \n",
      "2         1  \n",
      "3         1  \n",
      "4         1  \n",
      "\n",
      "Shape of the dataset:\n",
      "(31991, 8)\n"
     ]
    }
   ],
   "source": [
    "# Display the first few rows of the dataset\n",
    "print(\"First few rows of the dataset:\")\n",
    "print(data.head())\n",
    "\n",
    "# Check the shape of the dataset\n",
    "print(\"\\nShape of the dataset:\")\n",
    "print(data.shape)"
   ]
  },
  {
   "cell_type": "markdown",
   "metadata": {},
   "source": [
    "Check For Missing Values"
   ]
  },
  {
   "cell_type": "code",
   "execution_count": 190,
   "metadata": {},
   "outputs": [
    {
     "name": "stdout",
     "output_type": "stream",
     "text": [
      "Missing values:\n",
      "accX         0\n",
      "accY         0\n",
      "accZ         0\n",
      "gyroX        0\n",
      "gyroY        0\n",
      "gyroZ        0\n",
      "timestamp    0\n",
      "Activity     0\n",
      "dtype: int64\n"
     ]
    }
   ],
   "source": [
    "print(\"Missing values:\")\n",
    "print(data.isnull().sum())"
   ]
  },
  {
   "cell_type": "code",
   "execution_count": 191,
   "metadata": {},
   "outputs": [
    {
     "name": "stdout",
     "output_type": "stream",
     "text": [
      "Unique activities:\n",
      "[1 0]\n"
     ]
    }
   ],
   "source": [
    "# Check unique values in the 'activity' column\n",
    "print(\"Unique activities:\")\n",
    "print(data['Activity'].unique())"
   ]
  },
  {
   "cell_type": "code",
   "execution_count": 192,
   "metadata": {},
   "outputs": [
    {
     "name": "stdout",
     "output_type": "stream",
     "text": [
      "Summary statistics:\n",
      "               accX          accY          accZ         gyroX         gyroY  \\\n",
      "count  31991.000000  31991.000000  31991.000000  31991.000000  31991.000000   \n",
      "mean       0.023825      2.153858      9.537909     -0.004493     -0.014756   \n",
      "std        0.741396      1.085466      2.056358      0.307643      0.249201   \n",
      "min       -3.673361     -4.386029      4.296066     -1.470421     -1.430659   \n",
      "25%       -0.472193      1.413062      7.794217     -0.149783     -0.162656   \n",
      "50%       -0.024998      2.119143      9.406739      0.022301     -0.011060   \n",
      "75%        0.477208      2.928435     11.158845      0.177978      0.124966   \n",
      "max        4.678671      6.377039     17.591568      1.332722      1.480135   \n",
      "\n",
      "              gyroZ      Activity  \n",
      "count  31991.000000  31991.000000  \n",
      "mean      -0.007021      0.982151  \n",
      "std        0.266120      0.132404  \n",
      "min       -1.894102      0.000000  \n",
      "25%       -0.154126      1.000000  \n",
      "50%        0.005261      1.000000  \n",
      "75%        0.152061      1.000000  \n",
      "max        1.482268      1.000000  \n"
     ]
    }
   ],
   "source": [
    "# Summary statistics of numerical columns\n",
    "print(\"Summary statistics:\")\n",
    "print(data.describe())\n"
   ]
  },
  {
   "cell_type": "markdown",
   "metadata": {},
   "source": [
    "Scaling"
   ]
  },
  {
   "cell_type": "code",
   "execution_count": 193,
   "metadata": {},
   "outputs": [
    {
     "name": "stdout",
     "output_type": "stream",
     "text": [
      "Updated dataset after preprocessing:\n",
      "       accX      accY      accZ     gyroX     gyroY     gyroZ timestamp  \\\n",
      "0 -0.701852  1.503313 -0.283555 -0.449734 -0.447050 -0.058313   34:22.9   \n",
      "1 -0.655818  1.580678 -0.124499  0.288789  0.447239  0.372586   34:23.0   \n",
      "2 -0.431503  1.535445 -0.295275  0.215371  0.266049  0.294263   34:23.1   \n",
      "3 -0.665712  1.599570 -0.386049  0.039444  0.174298  0.437607   34:23.2   \n",
      "4 -0.669347  1.801326 -0.290179 -0.387294  0.456717  0.221573   34:23.3   \n",
      "\n",
      "   Activity  \n",
      "0         1  \n",
      "1         1  \n",
      "2         1  \n",
      "3         1  \n",
      "4         1  \n"
     ]
    }
   ],
   "source": [
    "import pandas as pd\n",
    "from sklearn.preprocessing import StandardScaler\n",
    "\n",
    "# Scaling numerical features\n",
    "# We'll scale the accelerometer and gyroscope signals using StandardScaler\n",
    "scaler = StandardScaler()\n",
    "numerical_cols = [\n",
    "    'accX', 'accY', 'accZ', \n",
    "    'gyroX', 'gyroY', 'gyroZ'\n",
    "]\n",
    "\n",
    "data[numerical_cols] = scaler.fit_transform(data[numerical_cols])\n",
    "\n",
    "# Display the first few rows of the updated dataset with new features and preprocessed data\n",
    "print(\"Updated dataset after preprocessing:\")\n",
    "print(data.head())\n"
   ]
  },
  {
   "cell_type": "markdown",
   "metadata": {},
   "source": [
    "Check if the data is imbalanced"
   ]
  },
  {
   "cell_type": "code",
   "execution_count": 194,
   "metadata": {},
   "outputs": [
    {
     "name": "stdout",
     "output_type": "stream",
     "text": [
      "Activity\n",
      "1    98.215123\n",
      "0     1.784877\n",
      "Name: count, dtype: float64\n",
      "Activity\n",
      "1    31420\n",
      "0      571\n",
      "Name: count, dtype: int64\n"
     ]
    }
   ],
   "source": [
    "print(100*data['Activity'].value_counts()/len(data['Activity']))\n",
    "print(data['Activity'].value_counts())"
   ]
  },
  {
   "cell_type": "markdown",
   "metadata": {},
   "source": [
    "Plotting Heatmap"
   ]
  },
  {
   "cell_type": "code",
   "execution_count": 195,
   "metadata": {},
   "outputs": [
    {
     "data": {
      "image/png": "[encoded data removed]",
      "text/plain": [
       "<Figure size 1000x800 with 2 Axes>"
      ]
     },
     "metadata": {},
     "output_type": "display_data"
    }
   ],
   "source": [
    "import pandas as pd\n",
    "import seaborn as sns\n",
    "import matplotlib.pyplot as plt\n",
    "\n",
    "# Drop the 'timestamp' column\n",
    "data = data.drop(columns=['timestamp'])\n",
    "\n",
    "# Compute the correlation matrix\n",
    "correlation_matrix = data.corr()\n",
    "\n",
    "# Plot the heatmap\n",
    "plt.figure(figsize=(10, 8))\n",
    "sns.heatmap(correlation_matrix, annot=True, cmap='coolwarm', fmt=\".2f\",linewidths=0.5)\n",
    "plt.title('Correlation Heatmap')\n",
    "plt.show()\n"
   ]
  },
  {
   "cell_type": "code",
   "execution_count": 196,
   "metadata": {},
   "outputs": [
    {
     "data": {
      "text/html": [
       "<div>\n",
       "<style scoped>\n",
       "    .dataframe tbody tr th:only-of-type {\n",
       "        vertical-align: middle;\n",
       "    }\n",
       "\n",
       "    .dataframe tbody tr th {\n",
       "        vertical-align: top;\n",
       "    }\n",
       "\n",
       "    .dataframe thead th {\n",
       "        text-align: right;\n",
       "    }\n",
       "</style>\n",
       "<table border=\"1\" class=\"dataframe\">\n",
       "  <thead>\n",
       "    <tr style=\"text-align: right;\">\n",
       "      <th></th>\n",
       "      <th>accX</th>\n",
       "      <th>accY</th>\n",
       "      <th>accZ</th>\n",
       "      <th>gyroZ</th>\n",
       "      <th>Activity</th>\n",
       "    </tr>\n",
       "  </thead>\n",
       "  <tbody>\n",
       "    <tr>\n",
       "      <th>0</th>\n",
       "      <td>-0.701852</td>\n",
       "      <td>1.503313</td>\n",
       "      <td>-0.283555</td>\n",
       "      <td>-0.058313</td>\n",
       "      <td>1</td>\n",
       "    </tr>\n",
       "    <tr>\n",
       "      <th>1</th>\n",
       "      <td>-0.655818</td>\n",
       "      <td>1.580678</td>\n",
       "      <td>-0.124499</td>\n",
       "      <td>0.372586</td>\n",
       "      <td>1</td>\n",
       "    </tr>\n",
       "    <tr>\n",
       "      <th>2</th>\n",
       "      <td>-0.431503</td>\n",
       "      <td>1.535445</td>\n",
       "      <td>-0.295275</td>\n",
       "      <td>0.294263</td>\n",
       "      <td>1</td>\n",
       "    </tr>\n",
       "    <tr>\n",
       "      <th>3</th>\n",
       "      <td>-0.665712</td>\n",
       "      <td>1.599570</td>\n",
       "      <td>-0.386049</td>\n",
       "      <td>0.437607</td>\n",
       "      <td>1</td>\n",
       "    </tr>\n",
       "    <tr>\n",
       "      <th>4</th>\n",
       "      <td>-0.669347</td>\n",
       "      <td>1.801326</td>\n",
       "      <td>-0.290179</td>\n",
       "      <td>0.221573</td>\n",
       "      <td>1</td>\n",
       "    </tr>\n",
       "  </tbody>\n",
       "</table>\n",
       "</div>"
      ],
      "text/plain": [
       "       accX      accY      accZ     gyroZ  Activity\n",
       "0 -0.701852  1.503313 -0.283555 -0.058313         1\n",
       "1 -0.655818  1.580678 -0.124499  0.372586         1\n",
       "2 -0.431503  1.535445 -0.295275  0.294263         1\n",
       "3 -0.665712  1.599570 -0.386049  0.437607         1\n",
       "4 -0.669347  1.801326 -0.290179  0.221573         1"
      ]
     },
     "execution_count": 196,
     "metadata": {},
     "output_type": "execute_result"
    }
   ],
   "source": [
    "df=data.drop(columns=['gyroX','gyroY'])\n",
    "df.head()"
   ]
  },
  {
   "cell_type": "markdown",
   "metadata": {},
   "source": [
    "Model Training & Evaluation"
   ]
  },
  {
   "cell_type": "markdown",
   "metadata": {},
   "source": [
    "Splitting data and target"
   ]
  },
  {
   "cell_type": "code",
   "execution_count": 197,
   "metadata": {},
   "outputs": [],
   "source": [
    "from sklearn.model_selection import train_test_split\n",
    "from sklearn.metrics import classification_report, confusion_matrix\n",
    "\n",
    "# Split the data into features (X) and target (y)\n",
    "X = df.drop(columns=['Activity'])  # Features\n",
    "y = df['Activity']  # Target\n",
    "\n",
    "# Split the data into training and testing sets\n",
    "X_train, X_test, y_train, y_test = train_test_split(X, y, test_size=0.2, random_state=42)"
   ]
  },
  {
   "cell_type": "code",
   "execution_count": 198,
   "metadata": {},
   "outputs": [
    {
     "name": "stdout",
     "output_type": "stream",
     "text": [
      "Classification Report:\n",
      "              precision    recall  f1-score   support\n",
      "\n",
      "           0       0.69      0.19      0.30       106\n",
      "           1       0.99      1.00      0.99      6293\n",
      "\n",
      "    accuracy                           0.99      6399\n",
      "   macro avg       0.84      0.59      0.64      6399\n",
      "weighted avg       0.98      0.99      0.98      6399\n",
      "\n",
      "\n",
      "Confusion Matrix:\n",
      "[[  20   86]\n",
      " [   9 6284]]\n"
     ]
    }
   ],
   "source": [
    "from sklearn.ensemble import RandomForestClassifier\n",
    "from sklearn.metrics import classification_report, confusion_matrix\n",
    "\n",
    "# Define the Random Forest Classifier with default hyperparameters\n",
    "rf_classifier = RandomForestClassifier(random_state=42)  # Set random_state for reproducibility\n",
    "\n",
    "# Train the model on the training data\n",
    "rf_classifier.fit(X_train, y_train)\n",
    "\n",
    "# Make predictions on the testing data\n",
    "y_pred_rf = rf_classifier.predict(X_test)\n",
    "\n",
    "# Evaluate the model's performance\n",
    "print(\"Classification Report:\")\n",
    "print(classification_report(y_test, y_pred_rf))\n",
    "\n",
    "print(\"\\nConfusion Matrix:\")\n",
    "print(confusion_matrix(y_test, y_pred_rf))\n"
   ]
  },
  {
   "cell_type": "markdown",
   "metadata": {},
   "source": [
    "OverSampling"
   ]
  },
  {
   "cell_type": "code",
   "execution_count": 199,
   "metadata": {},
   "outputs": [
    {
     "name": "stdout",
     "output_type": "stream",
     "text": [
      "Activity\n",
      "1    31420\n",
      "0      571\n",
      "Name: count, dtype: int64\n",
      "\n",
      "After Resampling\n",
      "Activity\n",
      "0    30908\n",
      "1    28972\n",
      "Name: count, dtype: int64\n"
     ]
    }
   ],
   "source": [
    "from imblearn.combine import SMOTEENN\n",
    "sm=SMOTEENN()\n",
    "X_resampled,Y_resampled=sm.fit_resample(X,y)\n",
    "Xr_train,Xr_test,Yr_train,Yr_test=train_test_split(X_resampled,Y_resampled,test_size=0.2,random_state=42)\n",
    "print(y.value_counts())\n",
    "print(\"\\nAfter Resampling\")\n",
    "print(Y_resampled.value_counts())"
   ]
  },
  {
   "cell_type": "markdown",
   "metadata": {},
   "source": [
    "WITHOUT HYPERPARAMETER TUNING"
   ]
  },
  {
   "cell_type": "markdown",
   "metadata": {},
   "source": [
    "Random Forest Classifier"
   ]
  },
  {
   "cell_type": "code",
   "execution_count": 200,
   "metadata": {},
   "outputs": [
    {
     "name": "stdout",
     "output_type": "stream",
     "text": [
      "Classification Report:\n",
      "              precision    recall  f1-score   support\n",
      "\n",
      "           0       0.98      1.00      0.99      6148\n",
      "           1       1.00      0.98      0.99      5828\n",
      "\n",
      "    accuracy                           0.99     11976\n",
      "   macro avg       0.99      0.99      0.99     11976\n",
      "weighted avg       0.99      0.99      0.99     11976\n",
      "\n",
      "\n",
      "Confusion Matrix:\n",
      "[[6125   23]\n",
      " [  98 5730]]\n"
     ]
    }
   ],
   "source": [
    "from sklearn.ensemble import RandomForestClassifier\n",
    "from sklearn.metrics import classification_report, confusion_matrix\n",
    "\n",
    "# Define the Random Forest Classifier with default hyperparameters\n",
    "rf_classifier = RandomForestClassifier(random_state=42)  # Set random_state for reproducibility\n",
    "\n",
    "# Train the model on the training data\n",
    "rf_classifier.fit(Xr_train, Yr_train)\n",
    "\n",
    "# Make predictions on the testing data\n",
    "Y_pred_rf = rf_classifier.predict(Xr_test)\n",
    "\n",
    "# Evaluate the model's performance\n",
    "print(\"Classification Report:\")\n",
    "print(classification_report(Yr_test, Y_pred_rf))\n",
    "\n",
    "print(\"\\nConfusion Matrix:\")\n",
    "print(confusion_matrix(Yr_test, Y_pred_rf))\n"
   ]
  },
  {
   "cell_type": "markdown",
   "metadata": {},
   "source": [
    "Decision Tree Classifier"
   ]
  },
  {
   "cell_type": "code",
   "execution_count": 201,
   "metadata": {},
   "outputs": [
    {
     "name": "stdout",
     "output_type": "stream",
     "text": [
      "\n",
      "Classification Report:\n",
      "              precision    recall  f1-score   support\n",
      "\n",
      "           0       0.98      0.99      0.98      6148\n",
      "           1       0.99      0.98      0.98      5828\n",
      "\n",
      "    accuracy                           0.98     11976\n",
      "   macro avg       0.98      0.98      0.98     11976\n",
      "weighted avg       0.98      0.98      0.98     11976\n",
      "\n",
      "\n",
      "Confusion Matrix:\n",
      "[[6067   81]\n",
      " [ 139 5689]]\n"
     ]
    }
   ],
   "source": [
    "from sklearn.pipeline import Pipeline\n",
    "from sklearn.tree import DecisionTreeClassifier\n",
    "\n",
    "# Define pipeline with Decision Tree Classifier (default hyperparameters)\n",
    "pipeline = Pipeline([\n",
    "  ('classifier', DecisionTreeClassifier(random_state=42))\n",
    "])\n",
    "\n",
    "# Train the pipeline on the training data\n",
    "pipeline.fit(Xr_train, Yr_train)\n",
    "\n",
    "# Make predictions on the testing data\n",
    "Y_pred_dt = pipeline.predict(Xr_test)\n",
    "\n",
    "# Evaluate the model's performance\n",
    "print(\"\\nClassification Report:\")\n",
    "print(classification_report(Yr_test, Y_pred_dt))\n",
    "\n",
    "print(\"\\nConfusion Matrix:\")\n",
    "print(confusion_matrix(Yr_test, Y_pred_dt))\n"
   ]
  },
  {
   "cell_type": "markdown",
   "metadata": {},
   "source": [
    "Logistic Regression"
   ]
  },
  {
   "cell_type": "code",
   "execution_count": 202,
   "metadata": {},
   "outputs": [
    {
     "name": "stdout",
     "output_type": "stream",
     "text": [
      "\n",
      "Classification Report for Logistic Regression:\n",
      "              precision    recall  f1-score   support\n",
      "\n",
      "           0       0.85      0.93      0.89      6148\n",
      "           1       0.92      0.83      0.87      5828\n",
      "\n",
      "    accuracy                           0.88     11976\n",
      "   macro avg       0.89      0.88      0.88     11976\n",
      "weighted avg       0.89      0.88      0.88     11976\n",
      "\n",
      "\n",
      "Confusion Matrix for Logistic Regression:\n",
      "[[5745  403]\n",
      " [ 993 4835]]\n"
     ]
    }
   ],
   "source": [
    "from sklearn.pipeline import Pipeline\n",
    "from sklearn.linear_model import LogisticRegression\n",
    "\n",
    "# Define pipeline with Logistic Regression (default hyperparameters)\n",
    "pipeline = Pipeline([\n",
    "  ('classifier', LogisticRegression(random_state=42))\n",
    "])\n",
    "\n",
    "# Train the pipeline on the training data\n",
    "pipeline.fit(Xr_train, Yr_train)\n",
    "\n",
    "# Make predictions on the testing data\n",
    "Y_pred_lr = pipeline.predict(Xr_test)\n",
    "\n",
    "# Evaluate the performance of the Logistic Regression model\n",
    "print(\"\\nClassification Report for Logistic Regression:\")\n",
    "print(classification_report(Yr_test, Y_pred_lr))\n",
    "\n",
    "print(\"\\nConfusion Matrix for Logistic Regression:\")\n",
    "print(confusion_matrix(Yr_test, Y_pred_lr))\n"
   ]
  },
  {
   "cell_type": "markdown",
   "metadata": {},
   "source": [
    "K Neighbors Classifier"
   ]
  },
  {
   "cell_type": "code",
   "execution_count": 203,
   "metadata": {},
   "outputs": [
    {
     "name": "stdout",
     "output_type": "stream",
     "text": [
      "\n",
      "Classification Report:\n",
      "              precision    recall  f1-score   support\n",
      "\n",
      "           0       0.98      1.00      0.99      6148\n",
      "           1       1.00      0.98      0.99      5828\n",
      "\n",
      "    accuracy                           0.99     11976\n",
      "   macro avg       0.99      0.99      0.99     11976\n",
      "weighted avg       0.99      0.99      0.99     11976\n",
      "\n",
      "\n",
      "Confusion Matrix:\n",
      "[[6139    9]\n",
      " [ 101 5727]]\n"
     ]
    }
   ],
   "source": [
    "from sklearn.neighbors import KNeighborsClassifier\n",
    "\n",
    "# Define the pipeline with KNeighborsClassifier (default hyperparameters)\n",
    "pipeline = Pipeline([\n",
    "    ('classifier', KNeighborsClassifier())\n",
    "])\n",
    "\n",
    "# Train the pipeline on the training data\n",
    "pipeline.fit(Xr_train, Yr_train)\n",
    "\n",
    "# Make predictions on the testing data\n",
    "Y_pred_knn = pipeline.predict(Xr_test)\n",
    "\n",
    "# Evaluate the model's performance\n",
    "print(\"\\nClassification Report:\")\n",
    "print(classification_report(Yr_test, Y_pred_knn))\n",
    "\n",
    "print(\"\\nConfusion Matrix:\")\n",
    "print(confusion_matrix(Yr_test, Y_pred_knn))\n"
   ]
  },
  {
   "cell_type": "markdown",
   "metadata": {},
   "source": [
    "WITH HYPERPArAMETER TUNING - GRIDSEARCH"
   ]
  },
  {
   "cell_type": "markdown",
   "metadata": {},
   "source": [
    "Decision tree classifier"
   ]
  },
  {
   "cell_type": "code",
   "execution_count": 204,
   "metadata": {},
   "outputs": [
    {
     "name": "stdout",
     "output_type": "stream",
     "text": [
      "Best Parameters: {'classifier__max_depth': None, 'classifier__min_samples_leaf': 1, 'classifier__min_samples_split': 2}\n",
      "\n",
      "Classification Report:\n",
      "              precision    recall  f1-score   support\n",
      "\n",
      "           0       0.98      0.99      0.98      6148\n",
      "           1       0.99      0.98      0.98      5828\n",
      "\n",
      "    accuracy                           0.98     11976\n",
      "   macro avg       0.98      0.98      0.98     11976\n",
      "weighted avg       0.98      0.98      0.98     11976\n",
      "\n",
      "\n",
      "Confusion Matrix:\n",
      "[[6067   81]\n",
      " [ 139 5689]]\n"
     ]
    }
   ],
   "source": [
    "from sklearn.model_selection import GridSearchCV\n",
    "from sklearn.pipeline import Pipeline\n",
    "from sklearn.tree import DecisionTreeClassifier\n",
    "\n",
    "# Define pipeline with Decision Tree Classifier\n",
    "pipeline = Pipeline([\n",
    "    ('classifier', DecisionTreeClassifier(random_state=42))\n",
    "])\n",
    "\n",
    "# Define hyperparameters grid for grid search\n",
    "param_grid = {\n",
    "    'classifier__max_depth': [None, 10, 20],\n",
    "    'classifier__min_samples_split': [2, 5, 10],\n",
    "    'classifier__min_samples_leaf': [1, 2, 4]\n",
    "}\n",
    "\n",
    "# Perform hyperparameter tuning using GridSearchCV\n",
    "grid_search = GridSearchCV(estimator=pipeline, param_grid=param_grid, cv=5, scoring='accuracy')\n",
    "grid_search.fit(Xr_train, Yr_train)\n",
    "\n",
    "# Get the best parameters\n",
    "best_params = grid_search.best_params_\n",
    "print(\"Best Parameters:\", best_params)\n",
    "\n",
    "# Predict on the testing set using the best model\n",
    "best_classifier = grid_search.best_estimator_\n",
    "Y_pred_dt_grid = best_classifier.predict(Xr_test)\n",
    "\n",
    "# Evaluate the model\n",
    "print(\"\\nClassification Report:\")\n",
    "print(classification_report(Yr_test, Y_pred_dt))\n",
    "\n",
    "print(\"\\nConfusion Matrix:\")\n",
    "print(confusion_matrix(Yr_test, Y_pred_dt))\n"
   ]
  },
  {
   "cell_type": "markdown",
   "metadata": {},
   "source": [
    "Logistic Regression"
   ]
  },
  {
   "cell_type": "code",
   "execution_count": 205,
   "metadata": {},
   "outputs": [
    {
     "name": "stdout",
     "output_type": "stream",
     "text": [
      "Best Parameters: {'classifier__C': 10, 'classifier__solver': 'lbfgs'}\n",
      "\n",
      "Classification Report for Logistic Regression:\n",
      "              precision    recall  f1-score   support\n",
      "\n",
      "           0       0.85      0.93      0.89      6148\n",
      "           1       0.92      0.83      0.87      5828\n",
      "\n",
      "    accuracy                           0.88     11976\n",
      "   macro avg       0.89      0.88      0.88     11976\n",
      "weighted avg       0.89      0.88      0.88     11976\n",
      "\n",
      "\n",
      "Confusion Matrix for Logistic Regression:\n",
      "[[5745  403]\n",
      " [ 993 4835]]\n"
     ]
    }
   ],
   "source": [
    "pipeline = Pipeline([\n",
    "  ('classifier', LogisticRegression(random_state=42))  # Logistic Regression classifier\n",
    "])\n",
    "\n",
    "# Define hyperparameter grid for GridSearchCV\n",
    "param_grid = {\n",
    "  'classifier__C': [0.001, 0.01, 0.1, 1, 10],  # Specify a list of values for C\n",
    "  'classifier__solver': ['lbfgs', 'liblinear']  # Solvers to try\n",
    "}\n",
    "\n",
    "# Perform hyperparameter tuning using GridSearchCV\n",
    "grid_search = GridSearchCV(estimator=pipeline, param_grid=param_grid, cv=5, scoring='accuracy')\n",
    "grid_search.fit(Xr_train, Yr_train)\n",
    "\n",
    "# Get the best parameters\n",
    "best_params = grid_search.best_params_\n",
    "print(\"Best Parameters:\", best_params)\n",
    "\n",
    "# Predict on the testing set using the best model\n",
    "best_classifier = grid_search.best_estimator_\n",
    "Y_pred_lr_grid = best_classifier.predict(Xr_test)\n",
    "\n",
    "# Evaluate the performance of the Logistic Regression model\n",
    "print(\"\\nClassification Report for Logistic Regression:\")\n",
    "print(classification_report(Yr_test, Y_pred_lr))\n",
    "\n",
    "print(\"\\nConfusion Matrix for Logistic Regression:\")\n",
    "print(confusion_matrix(Yr_test, Y_pred_lr))\n"
   ]
  },
  {
   "cell_type": "markdown",
   "metadata": {},
   "source": [
    "WITH HYPERPARAMETERTUNING RANDOMIZEDSEARCHCV"
   ]
  },
  {
   "cell_type": "markdown",
   "metadata": {},
   "source": [
    "Decision Tree Classifier"
   ]
  },
  {
   "cell_type": "code",
   "execution_count": 206,
   "metadata": {},
   "outputs": [
    {
     "name": "stdout",
     "output_type": "stream",
     "text": [
      "Best Parameters: {'classifier__criterion': 'entropy', 'classifier__max_depth': 16, 'classifier__min_samples_leaf': 2, 'classifier__min_samples_split': 4}\n",
      "\n",
      "Classification Report:\n",
      "              precision    recall  f1-score   support\n",
      "\n",
      "           0       0.98      0.99      0.98      6148\n",
      "           1       0.99      0.98      0.98      5828\n",
      "\n",
      "    accuracy                           0.98     11976\n",
      "   macro avg       0.98      0.98      0.98     11976\n",
      "weighted avg       0.98      0.98      0.98     11976\n",
      "\n",
      "\n",
      "Confusion Matrix:\n",
      "[[6067   81]\n",
      " [ 139 5689]]\n"
     ]
    }
   ],
   "source": [
    "from sklearn.model_selection import RandomizedSearchCV\n",
    "from sklearn.pipeline import Pipeline\n",
    "from sklearn.tree import DecisionTreeClassifier\n",
    "from scipy.stats import uniform, randint\n",
    "\n",
    "# Define pipeline with Decision Tree Classifier\n",
    "pipeline = Pipeline([\n",
    "  ('classifier', DecisionTreeClassifier(random_state=42))\n",
    "])\n",
    "\n",
    "# Define hyperparameter distributions for RandomizedSearchCV\n",
    "# Define hyperparameter distributions for RandomizedSearchCV\n",
    "param_dist = {\n",
    "  'classifier__criterion': ['gini', 'entropy'],  # Options for criterion\n",
    "  'classifier__max_depth': randint(2, 20),       # Integer values between 2 and 20\n",
    "  'classifier__min_samples_split': randint(2, 10),# Integer values between 2 and 10\n",
    "  'classifier__min_samples_leaf': randint(1, 4)   # Integer values between 1 and 4\n",
    "}\n",
    "\n",
    "\n",
    "# Perform hyperparameter tuning using RandomizedSearchCV\n",
    "random_dt = RandomizedSearchCV(estimator=pipeline, param_distributions=param_dist, n_iter=10, cv=5, scoring='accuracy', random_state=42)\n",
    "random_dt.fit(Xr_train, Yr_train)\n",
    "\n",
    "# Get the best parameters\n",
    "best_params = random_dt.best_params_\n",
    "print(\"Best Parameters:\", best_params)\n",
    "\n",
    "# Predict on the testing set using the best model\n",
    "best_classifier = random_dt.best_estimator_\n",
    "Y_pred_dt_rand = best_classifier.predict(Xr_test)\n",
    "\n",
    "# Evaluate the model\n",
    "print(\"\\nClassification Report:\")\n",
    "print(classification_report(Yr_test, Y_pred_dt)) \n",
    "\n",
    "print(\"\\nConfusion Matrix:\")\n",
    "print(confusion_matrix(Yr_test, Y_pred_dt))\n"
   ]
  },
  {
   "cell_type": "markdown",
   "metadata": {},
   "source": [
    "Logistic Regression"
   ]
  },
  {
   "cell_type": "code",
   "execution_count": 207,
   "metadata": {},
   "outputs": [
    {
     "name": "stdout",
     "output_type": "stream",
     "text": [
      "Best Parameters: {'classifier__C': 3.746401188473625, 'classifier__solver': 'lbfgs'}\n",
      "\n",
      "Classification Report for Logistic Regression:\n",
      "              precision    recall  f1-score   support\n",
      "\n",
      "           0       0.85      0.93      0.89      6148\n",
      "           1       0.92      0.83      0.87      5828\n",
      "\n",
      "    accuracy                           0.88     11976\n",
      "   macro avg       0.89      0.88      0.88     11976\n",
      "weighted avg       0.89      0.88      0.88     11976\n",
      "\n",
      "\n",
      "Confusion Matrix for Logistic Regression:\n",
      "[[5745  403]\n",
      " [ 993 4835]]\n"
     ]
    }
   ],
   "source": [
    "from sklearn.model_selection import RandomizedSearchCV\n",
    "from sklearn.linear_model import LogisticRegression\n",
    "from scipy.stats import uniform\n",
    "\n",
    "# Define the pipeline\n",
    "pipeline = Pipeline([\n",
    "  ('classifier', LogisticRegression(random_state=42))  \n",
    "])\n",
    "\n",
    "# Define hyperparameters to search\n",
    "param_dist = {\n",
    "  'classifier__C': uniform(0.001, 10),  # Inverse regularization strength\n",
    "  'classifier__solver': ['lbfgs', 'liblinear']  # Solvers to try\n",
    "}\n",
    "\n",
    "# Perform hyperparameter tuning using RandomizedSearchCV\n",
    "random_lr = RandomizedSearchCV(estimator=pipeline, param_distributions=param_dist, n_iter=10, cv=5, scoring='accuracy', random_state=42)\n",
    "random_lr.fit(Xr_train, Yr_train)\n",
    "\n",
    "# Get the best parameters\n",
    "best_params = random_lr.best_params_\n",
    "print(\"Best Parameters:\", best_params)\n",
    "\n",
    "# Predict on the testing set using the best model\n",
    "best_classifier = random_lr.best_estimator_\n",
    "Y_pred_lr_rand = best_classifier.predict(Xr_test)\n",
    "\n",
    "# Evaluate the performance of the Logistic Regression model\n",
    "print(\"\\nClassification Report for Logistic Regression:\")\n",
    "print(classification_report(Yr_test, Y_pred_lr))\n",
    "\n",
    "print(\"\\nConfusion Matrix for Logistic Regression:\")\n",
    "print(confusion_matrix(Yr_test, Y_pred_lr))\n"
   ]
  },
  {
   "cell_type": "markdown",
   "metadata": {},
   "source": [
    "KNN"
   ]
  },
  {
   "cell_type": "code",
   "execution_count": 208,
   "metadata": {},
   "outputs": [
    {
     "name": "stdout",
     "output_type": "stream",
     "text": [
      "Best Parameters: {'classifier__n_neighbors': 3, 'classifier__p': 2}\n",
      "\n",
      "Classification Report:\n",
      "              precision    recall  f1-score   support\n",
      "\n",
      "           0       0.98      1.00      0.99      6148\n",
      "           1       1.00      0.98      0.99      5828\n",
      "\n",
      "    accuracy                           0.99     11976\n",
      "   macro avg       0.99      0.99      0.99     11976\n",
      "weighted avg       0.99      0.99      0.99     11976\n",
      "\n",
      "\n",
      "Confusion Matrix:\n",
      "[[6139    9]\n",
      " [ 101 5727]]\n"
     ]
    }
   ],
   "source": [
    "from sklearn.neighbors import KNeighborsClassifier\n",
    "from scipy.stats import randint\n",
    "\n",
    "# Define the pipeline\n",
    "pipeline = Pipeline([ ('classifier', KNeighborsClassifier())])\n",
    "\n",
    "param_dist = {\n",
    "    'classifier__n_neighbors': randint(1, 20),  # Number of neighbors\n",
    "    'classifier__p': [1, 2]  # Distance metric: 1 for Manhattan, 2 for Euclidean\n",
    "}\n",
    "\n",
    "# Perform hyperparameter tuning using RandomizedSearchCV\n",
    "random_knn = RandomizedSearchCV(estimator=pipeline, param_distributions=param_dist, n_iter=10, cv=5, scoring='accuracy', random_state=42)\n",
    "random_knn.fit(Xr_train, Yr_train)\n",
    "\n",
    "# Get the best parameters\n",
    "best_params = random_knn.best_params_\n",
    "print(\"Best Parameters:\", best_params)\n",
    "\n",
    "# Predict on the testing set using the best model\n",
    "best_classifier = random_knn.best_estimator_\n",
    "Y_pred_knn_rand = best_classifier.predict(Xr_test)\n",
    "\n",
    "# Evaluate the model\n",
    "print(\"\\nClassification Report:\")\n",
    "print(classification_report(Yr_test, Y_pred_knn))\n",
    "\n",
    "print(\"\\nConfusion Matrix:\")\n",
    "print(confusion_matrix(Yr_test, Y_pred_knn))\n"
   ]
  },
  {
   "cell_type": "markdown",
   "metadata": {},
   "source": [
    "Comparing Scores"
   ]
  },
  {
   "cell_type": "code",
   "execution_count": 209,
   "metadata": {},
   "outputs": [
    {
     "name": "stdout",
     "output_type": "stream",
     "text": [
      "Metrics for DecisionTreeClassifier:\n",
      "Accuracy     0.981630\n",
      "Precision    0.981670\n",
      "Recall       0.981630\n",
      "F1-Score     0.981627\n",
      "Name: DecisionTreeClassifier, dtype: float64\n",
      "\n",
      "Metrics for RandomForestClassifier:\n",
      "Accuracy     0.989896\n",
      "Precision    0.989970\n",
      "Recall       0.989896\n",
      "F1-Score     0.989894\n",
      "Name: RandomForestClassifier, dtype: float64\n",
      "\n",
      "Metrics for KNN:\n",
      "Accuracy     0.990815\n",
      "Precision    0.990927\n",
      "Recall       0.990815\n",
      "F1-Score     0.990813\n",
      "Name: KNN, dtype: float64\n",
      "\n",
      "Metrics for Logistic Regression:\n",
      "Accuracy     0.883434\n",
      "Precision    0.886904\n",
      "Recall       0.883434\n",
      "F1-Score     0.882995\n",
      "Name: LogisticRegression, dtype: float64\n",
      "\n",
      "Best Model for the Project based on Accuracy: KNN\n"
     ]
    }
   ],
   "source": [
    "from sklearn.metrics import accuracy_score, precision_score, recall_score, f1_score\n",
    "\n",
    "# Calculate metrics for each model\n",
    "dt_metrics = [accuracy_score(Yr_test, Y_pred_dt),  \n",
    "              precision_score(Yr_test, Y_pred_dt, average='weighted'),\n",
    "              recall_score(Yr_test, Y_pred_dt, average='weighted'),\n",
    "              f1_score(Yr_test, Y_pred_dt, average='weighted')]\n",
    "\n",
    "rf_metrics = [accuracy_score(Yr_test, Y_pred_rf), \n",
    "              precision_score(Yr_test, Y_pred_rf, average='weighted'),\n",
    "              recall_score(Yr_test, Y_pred_rf, average='weighted'),\n",
    "              f1_score(Yr_test, Y_pred_rf, average='weighted')]\n",
    "\n",
    "knn_metrics = [accuracy_score(Yr_test, Y_pred_knn),  \n",
    "              precision_score(Yr_test, Y_pred_knn, average='weighted'),\n",
    "              recall_score(Yr_test, Y_pred_knn, average='weighted'),\n",
    "              f1_score(Yr_test, Y_pred_knn, average='weighted')]\n",
    "\n",
    "lr_metrics = [accuracy_score(Yr_test, Y_pred_lr), \n",
    "              precision_score(Yr_test, Y_pred_lr, average='weighted'),\n",
    "              recall_score(Yr_test, Y_pred_lr, average='weighted'),\n",
    "              f1_score(Yr_test, Y_pred_lr, average='weighted')]\n",
    "# Metrics dataframe\n",
    "metrics_df = pd.DataFrame([dt_metrics, rf_metrics, knn_metrics, lr_metrics],\n",
    "                          columns=['Accuracy', 'Precision', 'Recall', 'F1-Score'],\n",
    "                          index=['DecisionTreeClassifier', 'RandomForestClassifier', 'KNN', 'LogisticRegression'])\n",
    "\n",
    "# Print the metrics\n",
    "print(\"Metrics for DecisionTreeClassifier:\")\n",
    "print(metrics_df.loc['DecisionTreeClassifier'])\n",
    "print(\"\\nMetrics for RandomForestClassifier:\")\n",
    "print(metrics_df.loc['RandomForestClassifier'])\n",
    "print(\"\\nMetrics for KNN:\")\n",
    "print(metrics_df.loc['KNN'])\n",
    "print(\"\\nMetrics for Logistic Regression:\")\n",
    "print(metrics_df.loc['LogisticRegression'])\n",
    "\n",
    "# Print the model with the best F1-score\n",
    "best_model = metrics_df.idxmax()['Accuracy']\n",
    "print(\"\\nBest Model for the Project based on Accuracy:\", best_model)\n"
   ]
  },
  {
   "cell_type": "code",
   "execution_count": 210,
   "metadata": {},
   "outputs": [
    {
     "name": "stdout",
     "output_type": "stream",
     "text": [
      "Metrics for DecisionTreeClassifier:\n",
      "Accuracy     0.981630\n",
      "Precision    0.981670\n",
      "Recall       0.981630\n",
      "F1-Score     0.981627\n",
      "Name: DecisionTreeClassifier_grid, dtype: float64\n",
      "\n",
      "Metrics for Logistic Regression:\n",
      "Accuracy     0.883434\n",
      "Precision    0.886904\n",
      "Recall       0.883434\n",
      "F1-Score     0.882995\n",
      "Name: LogisticRegression_grid, dtype: float64\n",
      "\n",
      "Best Model for the Project based on Accuracy: DecisionTreeClassifier_grid\n"
     ]
    }
   ],
   "source": [
    "from sklearn.metrics import accuracy_score, precision_score, recall_score, f1_score\n",
    "\n",
    "# Calculate metrics for each model\n",
    "dt_metrics_grid = [accuracy_score(Yr_test, Y_pred_dt_grid), \n",
    "              precision_score(Yr_test, Y_pred_dt_grid, average='weighted'),\n",
    "              recall_score(Yr_test, Y_pred_dt_grid, average='weighted'),\n",
    "              f1_score(Yr_test, Y_pred_dt_grid, average='weighted')]\n",
    "\n",
    "lr_metrics_grid = [accuracy_score(Yr_test, Y_pred_lr_grid),  \n",
    "              precision_score(Yr_test, Y_pred_lr_grid, average='weighted'),\n",
    "              recall_score(Yr_test, Y_pred_lr_grid, average='weighted'),\n",
    "              f1_score(Yr_test, Y_pred_lr_grid, average='weighted')]\n",
    "\n",
    "# Metrics dataframe\n",
    "metrics_df_grid = pd.DataFrame([dt_metrics_grid,lr_metrics_grid],\n",
    "                          columns=['Accuracy', 'Precision', 'Recall', 'F1-Score'],\n",
    "                          index=['DecisionTreeClassifier_grid','LogisticRegression_grid'])\n",
    "\n",
    "# Print the metrics\n",
    "print(\"Metrics for DecisionTreeClassifier:\")\n",
    "print(metrics_df_grid.loc['DecisionTreeClassifier_grid'])\n",
    "print(\"\\nMetrics for Logistic Regression:\")\n",
    "print(metrics_df_grid.loc['LogisticRegression_grid'])\n",
    "\n",
    "# Print the model with the best F1-score\n",
    "best_model = metrics_df_grid.idxmax()['Accuracy']\n",
    "print(\"\\nBest Model for the Project based on Accuracy:\", best_model)\n"
   ]
  },
  {
   "cell_type": "code",
   "execution_count": 211,
   "metadata": {},
   "outputs": [
    {
     "name": "stdout",
     "output_type": "stream",
     "text": [
      "Metrics for DecisionTreeClassifier:\n",
      "Accuracy     0.981212\n",
      "Precision    0.981399\n",
      "Recall       0.981212\n",
      "F1-Score     0.981205\n",
      "Name: DecisionTreeClassifier_rand, dtype: float64\n",
      "\n",
      "Metrics for KNN:\n",
      "Accuracy     0.995908\n",
      "Precision    0.995929\n",
      "Recall       0.995908\n",
      "F1-Score     0.995908\n",
      "Name: KNN_rand, dtype: float64\n",
      "\n",
      "Metrics for Logistic Regression:\n",
      "Accuracy     0.883434\n",
      "Precision    0.886904\n",
      "Recall       0.883434\n",
      "F1-Score     0.882995\n",
      "Name: LogisticRegression_rand, dtype: float64\n",
      "\n",
      "Best Model for the Project based on Accuracy: KNN_rand\n"
     ]
    }
   ],
   "source": [
    "from sklearn.metrics import accuracy_score, precision_score, recall_score, f1_score\n",
    "\n",
    "# Calculate metrics for each model\n",
    "dt_metrics_rand = [accuracy_score(Yr_test, Y_pred_dt_rand),  \n",
    "              precision_score(Yr_test, Y_pred_dt_rand, average='weighted'),\n",
    "              recall_score(Yr_test, Y_pred_dt_rand, average='weighted'),\n",
    "              f1_score(Yr_test, Y_pred_dt_rand, average='weighted')]\n",
    "knn_metrics_rand = [accuracy_score(Yr_test, Y_pred_knn_rand),  \n",
    "              precision_score(Yr_test, Y_pred_knn_rand, average='weighted'),\n",
    "              recall_score(Yr_test, Y_pred_knn_rand, average='weighted'),\n",
    "              f1_score(Yr_test, Y_pred_knn_rand, average='weighted')]\n",
    "\n",
    "lr_metrics_rand = [accuracy_score(Yr_test, Y_pred_lr_rand),  \n",
    "              precision_score(Yr_test, Y_pred_lr_rand, average='weighted'),\n",
    "              recall_score(Yr_test, Y_pred_lr_rand, average='weighted'),\n",
    "              f1_score(Yr_test, Y_pred_lr_rand, average='weighted')]\n",
    "# Metrics dataframe\n",
    "metrics_df_rand = pd.DataFrame([dt_metrics_rand, knn_metrics_rand, lr_metrics_rand],\n",
    "                          columns=['Accuracy', 'Precision', 'Recall', 'F1-Score'],\n",
    "                          index=['DecisionTreeClassifier_rand', 'KNN_rand', 'LogisticRegression_rand'])\n",
    "\n",
    "# Print the metrics\n",
    "print(\"Metrics for DecisionTreeClassifier:\")\n",
    "print(metrics_df_rand.loc['DecisionTreeClassifier_rand'])\n",
    "print(\"\\nMetrics for KNN:\")\n",
    "print(metrics_df_rand.loc['KNN_rand'])\n",
    "print(\"\\nMetrics for Logistic Regression:\")\n",
    "print(metrics_df_rand.loc['LogisticRegression_rand'])\n",
    "\n",
    "# Print the model with the best F1-score\n",
    "best_model = metrics_df_rand.idxmax()['Accuracy']\n",
    "print(\"\\nBest Model for the Project based on Accuracy:\", best_model)\n"
   ]
  },
  {
   "cell_type": "markdown",
   "metadata": {},
   "source": [
    "Accuracy Visualization"
   ]
  },
  {
   "cell_type": "markdown",
   "metadata": {},
   "source": [
    "RandomizedSearchCv"
   ]
  },
  {
   "cell_type": "code",
   "execution_count": 212,
   "metadata": {},
   "outputs": [
    {
     "data": {
      "image/png": "[encoded data removed]",
      "text/plain": [
       "<Figure size 1000x600 with 1 Axes>"
      ]
     },
     "metadata": {},
     "output_type": "display_data"
    }
   ],
   "source": [
    "from sklearn.metrics import accuracy_score\n",
    "\n",
    "# Calculate accuracy for each model\n",
    "dt_accuracy_rand = accuracy_score(Yr_test, Y_pred_dt_rand)\n",
    "knn_accuracy_rand = accuracy_score(Yr_test, Y_pred_knn_rand)\n",
    "lr_accuracy_rand = accuracy_score(Yr_test, Y_pred_lr_rand)\n",
    "\n",
    "# Create the accuracy_rand list\n",
    "accuracy_rand = [dt_accuracy_rand, knn_accuracy_rand, lr_accuracy_rand]\n",
    "\n",
    "# Model names list\n",
    "model_names_rand = ['DecisionTreeClassifier', 'KNN', 'LogisticRegression']\n",
    "\n",
    "\n",
    "import matplotlib.pyplot as plt\n",
    "\n",
    "plt.figure(figsize=(10, 6))\n",
    "plt.barh(model_names_rand, accuracy_rand, color='coral', alpha=0.7)\n",
    "plt.xlabel('Accuracy')\n",
    "plt.ylabel('Model')\n",
    "plt.title('Model Accuracy (Random Hyperparameters)')\n",
    "plt.gca().invert_yaxis()  # Invert y-axis for readability (highest accuracy on top)\n",
    "plt.xlim(0, 1)\n",
    "for i, v in enumerate(accuracy_rand):\n",
    "    plt.text(v + 0.01, i, f\"{v:.4f}\", va='center', ha='left', fontsize=10)  # Adjust offset and precision as needed\n",
    "\n",
    "plt.grid(axis='x', linestyle='--', alpha=0.6)\n",
    "plt.tight_layout()\n",
    "plt.show()\n"
   ]
  },
  {
   "cell_type": "markdown",
   "metadata": {},
   "source": [
    "GridSearchCv"
   ]
  },
  {
   "cell_type": "code",
   "execution_count": 213,
   "metadata": {},
   "outputs": [
    {
     "data": {
      "image/png": "[encoded data removed]",
      "text/plain": [
       "<Figure size 1000x600 with 1 Axes>"
      ]
     },
     "metadata": {},
     "output_type": "display_data"
    }
   ],
   "source": [
    "from sklearn.metrics import accuracy_score\n",
    "\n",
    "# Calculate accuracy for each model\n",
    "dt_accuracy_grid = accuracy_score(Yr_test, Y_pred_dt_grid)\n",
    "lr_accuracy_grid = accuracy_score(Yr_test, Y_pred_lr_grid)\n",
    "\n",
    "# Create the accuracy_rand list\n",
    "accuracy_grid = [dt_accuracy_grid, lr_accuracy_grid]\n",
    "\n",
    "# Model names list\n",
    "model_names_grid = ['DecisionTreeClassifier', 'LogisticRegression']\n",
    "\n",
    "\n",
    "import matplotlib.pyplot as plt\n",
    "\n",
    "plt.figure(figsize=(10, 6))\n",
    "plt.barh(model_names_grid, accuracy_grid, color='green', alpha=0.7)\n",
    "plt.xlabel('Accuracy')\n",
    "plt.ylabel('Model')\n",
    "plt.title('Model Accuracy (GridSearch)')\n",
    "plt.gca().invert_yaxis()\n",
    "plt.xlim(0, 1)\n",
    "for i, v in enumerate(accuracy_grid):\n",
    "    plt.text(v + 0.01, i, f\"{v:.2f}\", va='center', ha='left', fontsize=10)  # Adjust offset and precision as needed\n",
    "\n",
    "plt.grid(axis='x', linestyle='--', alpha=0.6)\n",
    "plt.show()\n"
   ]
  },
  {
   "cell_type": "markdown",
   "metadata": {},
   "source": [
    "Without Hyperparameter tuning"
   ]
  },
  {
   "cell_type": "code",
   "execution_count": 214,
   "metadata": {},
   "outputs": [
    {
     "data": {
      "image/png": "[encoded data removed]",
      "text/plain": [
       "<Figure size 1000x600 with 1 Axes>"
      ]
     },
     "metadata": {},
     "output_type": "display_data"
    }
   ],
   "source": [
    "from sklearn.metrics import accuracy_score\n",
    "\n",
    "# Calculate accuracy for each model\n",
    "dt_accuracy = accuracy_score(Yr_test, Y_pred_dt)\n",
    "knn_accuracy = accuracy_score(Yr_test, Y_pred_knn)\n",
    "lr_accuracy = accuracy_score(Yr_test, Y_pred_lr)\n",
    "rf_accuracy = accuracy_score(Yr_test,Y_pred_rf)\n",
    "\n",
    "# Create the accuracy_rand list\n",
    "accuracy = [dt_accuracy, knn_accuracy, lr_accuracy,rf_accuracy]\n",
    "\n",
    "# Model names list\n",
    "model_names = ['DecisionTreeClassifier', 'KNN', 'LogisticRegression','RandomForestClassifier']\n",
    "\n",
    "\n",
    "import matplotlib.pyplot as plt\n",
    "\n",
    "plt.figure(figsize=(10, 6))\n",
    "plt.barh(model_names, accuracy, color='yellow', alpha=0.7)\n",
    "plt.xlabel('Accuracy')\n",
    "plt.ylabel('Model')\n",
    "plt.title('Model Accuracy ')\n",
    "plt.gca().invert_yaxis()  # Invert y-axis for readability (highest accuracy on top)\n",
    "plt.xlim(0, 1)\n",
    "for i, v in enumerate(accuracy):\n",
    "    plt.text(v + 0.01, i, f\"{v:.4f}\", va='center', ha='left', fontsize=10)  # Adjust offset and precision as needed\n",
    "\n",
    "plt.grid(axis='x', linestyle='--', alpha=0.6)\n",
    "plt.tight_layout()\n",
    "plt.show()\n"
   ]
  },
  {
   "cell_type": "markdown",
   "metadata": {},
   "source": [
    "BEST MODEL"
   ]
  },
  {
   "cell_type": "code",
   "execution_count": 215,
   "metadata": {},
   "outputs": [
    {
     "name": "stdout",
     "output_type": "stream",
     "text": [
      "Best model based on accuracy: KNN_rand\n"
     ]
    }
   ],
   "source": [
    "# Combine the three dataframes\n",
    "combined_metrics_df = pd.concat([metrics_df_rand, metrics_df_grid, metrics_df])\n",
    "\n",
    "# Find the model with the highest accuracy\n",
    "best_model = combined_metrics_df['Accuracy'].idxmax()\n",
    "\n",
    "print(f\"Best model based on accuracy: {best_model}\")\n"
   ]
  },
  {
   "cell_type": "code",
   "execution_count": null,
   "metadata": {},
   "outputs": [],
   "source": []
  }
 ],
 "metadata": {
  "kernelspec": {
   "display_name": "Python 3",
   "language": "python",
   "name": "python3"
  },
  "language_info": {
   "codemirror_mode": {
    "name": "ipython",
    "version": 3
   },
   "file_extension": ".py",
   "mimetype": "text/x-python",
   "name": "python",
   "nbconvert_exporter": "python",
   "pygments_lexer": "ipython3",
   "version": "3.11.8"
  }
 },
 "nbformat": 4,
 "nbformat_minor": 2
}
